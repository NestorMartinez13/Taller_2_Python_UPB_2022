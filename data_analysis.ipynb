{
 "cells": [
  {
   "cell_type": "code",
   "execution_count": 207,
   "metadata": {},
   "outputs": [],
   "source": [
    "import csv\n",
    "dates=[]\n",
    "sales=[]\n",
    "with open(\"sales.csv\",\"r\") as sales_csv:\n",
    "    sales_reader = csv.DictReader(sales_csv, delimiter=\";\")\n",
    "    for row in sales_reader:\n",
    "        dates.append(row[\"date\"].split(\"/\"))\n",
    "        sales.append(float(row[\"sales\"]))"
   ]
  },
  {
   "cell_type": "code",
   "execution_count": 208,
   "metadata": {},
   "outputs": [],
   "source": [
    "import csv\n",
    "expenses=[]\n",
    "with open(\"expenses.csv\", \"r\") as expenses_csv:\n",
    "    expenses_reader = csv.DictReader(expenses_csv, delimiter=\";\")\n",
    "    for row in expenses_reader:\n",
    "        expenses.append(float(row[\"expenses\"]))"
   ]
  },
  {
   "cell_type": "code",
   "execution_count": 259,
   "metadata": {},
   "outputs": [
    {
     "name": "stdout",
     "output_type": "stream",
     "text": [
      "[10955112.0, 14184227.0, 19987721.0, 22926536.0, 15622888.0, 19366303.0, 21497760.0, 14243701.0, 15357326.0, 17583911.0, 17373635.0, 20510600.0]\n",
      "['Enero', 'Febrero', 'Marzo', 'Abril', 'Mayo', 'Junio', 'Julio', 'Agosto', 'Septiembre', 'Octubre', 'Noviembre', 'Diciembre']\n",
      "[27200500.0]\n",
      "[16245388.0]\n"
     ]
    }
   ],
   "source": [
    "utilidades=[]\n",
    "month_sales=[]\n",
    "month_expenses=[]\n",
    "Ene_acum=0\n",
    "Ene_acum_sales=0\n",
    "Ene_acum_expenses=0\n",
    "for i in range(0,31):\n",
    "    if dates[i][1] == \"01\":\n",
    "        Ene_acum_sales += sales[i]\n",
    "        Ene_acum_expenses += expenses[i]\n",
    "        Ene_acum +=sales[i]-expenses[i]\n",
    "utilidades.append(Ene_acum)\n",
    "month_sales.append(Ene_acum_sales)\n",
    "month_expenses.append(Ene_acum_expenses)\n",
    "\n",
    "Feb_acum=0\n",
    "for i in range(31,59):\n",
    "    if dates[i][1] == \"02\":\n",
    "        Feb_acum += sales[i]-expenses[i]\n",
    "utilidades.append(Feb_acum)\n",
    "\n",
    "Mar_acum=0\n",
    "for i in range(59,90):\n",
    "    if dates[i][1] == \"03\":\n",
    "        Mar_acum += sales[i]-expenses[i]\n",
    "utilidades.append(Mar_acum)\n",
    "\n",
    "Abr_acum=0\n",
    "for i in range(90,120):\n",
    "    if dates[i][1] == \"04\":\n",
    "        Abr_acum += sales[i]-expenses[i]\n",
    "utilidades.append(Abr_acum)\n",
    "\n",
    "May_acum=0\n",
    "for i in range(120,151):\n",
    "    if dates[i][1] == \"05\":\n",
    "        May_acum += sales[i]-expenses[i]\n",
    "utilidades.append(May_acum)\n",
    "\n",
    "Jun_acum=0\n",
    "for i in range(151,181):\n",
    "    if dates[i][1] == \"06\":\n",
    "        Jun_acum += sales[i]-expenses[i]\n",
    "utilidades.append(Jun_acum)\n",
    "\n",
    "Jul_acum=0\n",
    "for i in range(182,212):\n",
    "    if dates[i][1] == \"07\":\n",
    "        Jul_acum += sales[i]-expenses[i]\n",
    "utilidades.append(Jul_acum)\n",
    "\n",
    "Ago_acum=0\n",
    "for i in range(211,243):\n",
    "    if dates[i][1] == \"08\":\n",
    "        Ago_acum += sales[i]-expenses[i]\n",
    "utilidades.append(Ago_acum)\n",
    "\n",
    "Sep_acum=0\n",
    "for i in range(243,273):\n",
    "    if dates[i][1] == \"09\":\n",
    "        Sep_acum += sales[i]-expenses[i]\n",
    "utilidades.append(Sep_acum)\n",
    "\n",
    "Oct_acum=0\n",
    "for i in range(273,304):\n",
    "    if dates[i][1] == \"10\":\n",
    "        Oct_acum += sales[i]-expenses[i]\n",
    "utilidades.append(Oct_acum)\n",
    "\n",
    "Nov_acum = 0\n",
    "for i in range(304,334):\n",
    "    if dates[i][1] == \"11\":\n",
    "        Nov_acum += sales[i]-expenses[i]\n",
    "utilidades.append(Nov_acum)\n",
    "\n",
    "Dic_acum = 0\n",
    "for i in range(334,365):\n",
    "    if dates[i][1]:\n",
    "        Dic_acum += sales[i]-expenses[i]\n",
    "utilidades.append(Dic_acum)\n",
    "\n",
    "months = [\"Enero\", \"Febrero\", \"Marzo\", \"Abril\", \"Mayo\", \"Junio\", \"Julio\", \"Agosto\", \"Septiembre\", \"Octubre\", \"Noviembre\", \"Diciembre\"]\n",
    "print(utilidades)\n",
    "print(months)\n",
    "print(month_sales)\n",
    "print(month_expenses)"
   ]
  },
  {
   "cell_type": "code",
   "execution_count": 256,
   "metadata": {},
   "outputs": [],
   "source": [
    "import matplotlib as mpl\n",
    "import matplotlib.pyplot as plt\n",
    "import numpy as np"
   ]
  },
  {
   "cell_type": "code",
   "execution_count": 257,
   "metadata": {},
   "outputs": [
    {
     "data": {
      "text/plain": [
       "[<matplotlib.lines.Line2D at 0x1c56e727f0>]"
      ]
     },
     "execution_count": 257,
     "metadata": {},
     "output_type": "execute_result"
    },
    {
     "data": {
      "image/png": "[encoded data removed]",
      "text/plain": [
       "<Figure size 432x288 with 1 Axes>"
      ]
     },
     "metadata": {
      "needs_background": "light"
     },
     "output_type": "display_data"
    }
   ],
   "source": [
    "fig, ax=plt.subplots()\n",
    "ax.plot(months,utilidades)"
   ]
  },
  {
   "cell_type": "code",
   "execution_count": null,
   "metadata": {},
   "outputs": [],
   "source": []
  }
 ],
 "metadata": {
  "kernelspec": {
   "display_name": "Python 3",
   "language": "python",
   "name": "python3"
  },
  "language_info": {
   "codemirror_mode": {
    "name": "ipython",
    "version": 3
   },
   "file_extension": ".py",
   "mimetype": "text/x-python",
   "name": "python",
   "nbconvert_exporter": "python",
   "pygments_lexer": "ipython3",
   "version": "3.8.5"
  }
 },
 "nbformat": 4,
 "nbformat_minor": 2
}
